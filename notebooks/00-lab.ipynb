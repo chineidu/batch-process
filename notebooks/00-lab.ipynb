{
 "cells": [
  {
   "cell_type": "code",
   "execution_count": 1,
   "id": "88083606",
   "metadata": {},
   "outputs": [],
   "source": [
    "import json\n",
    "import logging\n",
    "import re\n",
    "import warnings\n",
    "from pathlib import Path\n",
    "from pprint import pprint\n",
    "from typing import Annotated, Any, Generator, Literal, Type, TypeVar\n",
    "\n",
    "# Standard imports\n",
    "import numpy as np\n",
    "import numpy.typing as npt\n",
    "import pandas as pd\n",
    "import polars as pl\n",
    "\n",
    "# Visualization\n",
    "# import matplotlib.pyplot as plt\n",
    "\n",
    "# NumPy settings\n",
    "np.set_printoptions(precision=4)\n",
    "\n",
    "# Pandas settings\n",
    "pd.options.display.max_rows = 1_000\n",
    "pd.options.display.max_columns = 1_000\n",
    "pd.options.display.max_colwidth = 600\n",
    "\n",
    "# Polars settings\n",
    "pl.Config.set_fmt_str_lengths(1_000)\n",
    "pl.Config.set_tbl_cols(n=1_000)\n",
    "pl.Config.set_tbl_rows(n=200)\n",
    "\n",
    "warnings.filterwarnings(\"ignore\")\n",
    "\n",
    "# Black code formatter (Optional)\n",
    "%load_ext lab_black\n",
    "\n",
    "# auto reload imports\n",
    "%load_ext autoreload\n",
    "%autoreload 2"
   ]
  },
  {
   "cell_type": "code",
   "execution_count": 2,
   "id": "71b2ad73",
   "metadata": {},
   "outputs": [],
   "source": [
    "from rich.console import Console\n",
    "from rich.theme import Theme\n",
    "\n",
    "custom_theme = Theme(\n",
    "    {\n",
    "        \"white\": \"#FFFFFF\",  # Bright white\n",
    "        \"info\": \"#00FF00\",  # Bright green\n",
    "        \"warning\": \"#FFD700\",  # Bright gold\n",
    "        \"error\": \"#FF1493\",  # Deep pink\n",
    "        \"success\": \"#00FFFF\",  # Cyan\n",
    "        \"highlight\": \"#FF4500\",  # Orange-red\n",
    "    }\n",
    ")\n",
    "console = Console(theme=custom_theme)\n",
    "\n",
    "\n",
    "def create_path(path: str | Path) -> None:\n",
    "    \"\"\"\n",
    "    Create parent directories for the given path if they don't exist.\n",
    "\n",
    "    Parameters\n",
    "    ----------\n",
    "    path : str | Path\n",
    "        The file path for which to create parent directories.\n",
    "\n",
    "    \"\"\"\n",
    "    Path(path).parent.mkdir(parents=True, exist_ok=True)\n",
    "\n",
    "\n",
    "def go_up_from_current_directory(*, go_up: int = 1) -> None:\n",
    "    \"\"\"This is used to up a number of directories.\n",
    "\n",
    "    Params:\n",
    "    -------\n",
    "    go_up: int, default=1\n",
    "        This indicates the number of times to go back up from the current directory.\n",
    "\n",
    "    Returns:\n",
    "    --------\n",
    "    None\n",
    "    \"\"\"\n",
    "    import os\n",
    "    import sys\n",
    "\n",
    "    CONST: str = \"../\"\n",
    "    NUM: str = CONST * go_up\n",
    "\n",
    "    # Goto the previous directory\n",
    "    prev_directory = os.path.join(os.path.dirname(__name__), NUM)\n",
    "    # Get the 'absolute path' of the previous directory\n",
    "    abs_path_prev_directory = os.path.abspath(prev_directory)\n",
    "\n",
    "    # Add the path to the System paths\n",
    "    sys.path.insert(0, abs_path_prev_directory)\n",
    "    print(abs_path_prev_directory)"
   ]
  },
  {
   "cell_type": "code",
   "execution_count": 3,
   "id": "142ff501",
   "metadata": {},
   "outputs": [
    {
     "name": "stdout",
     "output_type": "stream",
     "text": [
      "/Users/neidu/Desktop/Projects/Personal/batch-process\n"
     ]
    }
   ],
   "source": [
    "go_up_from_current_directory(go_up=1)"
   ]
  },
  {
   "cell_type": "code",
   "execution_count": 4,
   "id": "7c4dbb5c",
   "metadata": {},
   "outputs": [],
   "source": [
    "from config import app_config"
   ]
  },
  {
   "cell_type": "code",
   "execution_count": 6,
   "id": "f5407b1f",
   "metadata": {},
   "outputs": [
    {
     "data": {
      "text/html": [
       "<pre style=\"white-space:pre;overflow-x:auto;line-height:normal;font-family:Menlo,'DejaVu Sans Mono',consolas,'Courier New',monospace\"><span style=\"color: #800080; text-decoration-color: #800080; font-weight: bold\">AppConfig</span><span style=\"font-weight: bold\">(</span>\n",
       "    <span style=\"color: #808000; text-decoration-color: #808000\">data</span>=<span style=\"color: #800080; text-decoration-color: #800080; font-weight: bold\">Data</span><span style=\"font-weight: bold\">(</span>\n",
       "        <span style=\"color: #808000; text-decoration-color: #808000\">data_path</span>=<span style=\"color: #008000; text-decoration-color: #008000\">'data/train.parquet'</span>,\n",
       "        <span style=\"color: #808000; text-decoration-color: #808000\">batch_data</span>=<span style=\"color: #800080; text-decoration-color: #800080; font-weight: bold\">BatchData</span><span style=\"font-weight: bold\">(</span>\n",
       "            <span style=\"color: #808000; text-decoration-color: #808000\">is_remote</span>=<span style=\"color: #00ff00; text-decoration-color: #00ff00; font-style: italic\">True</span>,\n",
       "            <span style=\"color: #808000; text-decoration-color: #808000\">remote_data_id</span>=<span style=\"color: #008000; text-decoration-color: #008000\">'1lSKBgYQ6bgV4ARRpeRfPMpLgf1GgyWY8'</span>,\n",
       "            <span style=\"color: #808000; text-decoration-color: #808000\">download_path</span>=<span style=\"color: #008000; text-decoration-color: #008000\">'data/downloaded_data.parquet'</span>,\n",
       "            <span style=\"color: #808000; text-decoration-color: #808000\">batch_mode</span>=<span style=\"color: #ff0000; text-decoration-color: #ff0000; font-style: italic\">False</span>,\n",
       "            <span style=\"color: #808000; text-decoration-color: #808000\">batch_size</span>=<span style=\"color: #008080; text-decoration-color: #008080; font-weight: bold\">100</span>\n",
       "        <span style=\"font-weight: bold\">)</span>,\n",
       "        <span style=\"color: #808000; text-decoration-color: #808000\">num_vars</span>=<span style=\"font-weight: bold\">[</span><span style=\"color: #008000; text-decoration-color: #008000\">'age'</span>, <span style=\"color: #008000; text-decoration-color: #008000\">'pclass'</span>, <span style=\"color: #008000; text-decoration-color: #008000\">'sibsp'</span>, <span style=\"color: #008000; text-decoration-color: #008000\">'parch'</span>, <span style=\"color: #008000; text-decoration-color: #008000\">'fare'</span>, <span style=\"color: #008000; text-decoration-color: #008000\">'survived'</span><span style=\"font-weight: bold\">]</span>,\n",
       "        <span style=\"color: #808000; text-decoration-color: #808000\">cat_vars</span>=<span style=\"font-weight: bold\">[</span><span style=\"color: #008000; text-decoration-color: #008000\">'sex'</span>, <span style=\"color: #008000; text-decoration-color: #008000\">'embarked'</span><span style=\"font-weight: bold\">]</span>\n",
       "    <span style=\"font-weight: bold\">)</span>,\n",
       "    <span style=\"color: #808000; text-decoration-color: #808000\">db</span>=<span style=\"color: #800080; text-decoration-color: #800080; font-weight: bold\">DB</span><span style=\"font-weight: bold\">(</span><span style=\"color: #808000; text-decoration-color: #808000\">db_path</span>=<span style=\"color: #008000; text-decoration-color: #008000\">'sqlite:///results.db'</span>, <span style=\"color: #808000; text-decoration-color: #808000\">max_connections</span>=<span style=\"color: #008080; text-decoration-color: #008080; font-weight: bold\">5</span><span style=\"font-weight: bold\">)</span>,\n",
       "    <span style=\"color: #808000; text-decoration-color: #808000\">model</span>=<span style=\"color: #800080; text-decoration-color: #800080; font-weight: bold\">Model</span><span style=\"font-weight: bold\">(</span>\n",
       "        <span style=\"color: #808000; text-decoration-color: #808000\">hyperparams</span>=<span style=\"color: #800080; text-decoration-color: #800080; font-weight: bold\">ModelHyperparams</span><span style=\"font-weight: bold\">(</span><span style=\"color: #808000; text-decoration-color: #808000\">n_splits</span>=<span style=\"color: #008080; text-decoration-color: #008080; font-weight: bold\">5</span>, <span style=\"color: #808000; text-decoration-color: #808000\">n_estimators</span>=<span style=\"color: #008080; text-decoration-color: #008080; font-weight: bold\">100</span>, <span style=\"color: #808000; text-decoration-color: #808000\">max_depth</span>=<span style=\"color: #008080; text-decoration-color: #008080; font-weight: bold\">10</span>, <span style=\"color: #808000; text-decoration-color: #808000\">random_state</span>=<span style=\"color: #008080; text-decoration-color: #008080; font-weight: bold\">42</span>, <span style=\"color: #808000; text-decoration-color: #808000\">test_size</span>=<span style=\"color: #008080; text-decoration-color: #008080; font-weight: bold\">0.2</span><span style=\"font-weight: bold\">)</span>,\n",
       "        <span style=\"color: #808000; text-decoration-color: #808000\">artifacts</span>=<span style=\"color: #800080; text-decoration-color: #800080; font-weight: bold\">Artifacts</span><span style=\"font-weight: bold\">(</span><span style=\"color: #808000; text-decoration-color: #808000\">model_path</span>=<span style=\"color: #008000; text-decoration-color: #008000\">'models/model.pkl'</span><span style=\"font-weight: bold\">)</span>\n",
       "    <span style=\"font-weight: bold\">)</span>,\n",
       "    <span style=\"color: #808000; text-decoration-color: #808000\">celery_config</span>=<span style=\"color: #800080; text-decoration-color: #800080; font-weight: bold\">CeleryConfig</span><span style=\"font-weight: bold\">(</span>\n",
       "        <span style=\"color: #808000; text-decoration-color: #808000\">broker_url</span>=<span style=\"color: #008000; text-decoration-color: #008000\">'pyamqp://guest@localhost:5672//'</span>,\n",
       "        <span style=\"color: #808000; text-decoration-color: #808000\">result_backend</span>=<span style=\"color: #008000; text-decoration-color: #008000\">'redis://localhost:6379'</span>,\n",
       "        <span style=\"color: #808000; text-decoration-color: #808000\">task_config</span>=<span style=\"color: #800080; text-decoration-color: #800080; font-weight: bold\">TaskConfig</span><span style=\"font-weight: bold\">(</span><span style=\"color: #808000; text-decoration-color: #808000\">task_serializer</span>=<span style=\"color: #008000; text-decoration-color: #008000\">'json'</span>, <span style=\"color: #808000; text-decoration-color: #808000\">result_serializer</span>=<span style=\"color: #008000; text-decoration-color: #008000\">'json'</span>, <span style=\"color: #808000; text-decoration-color: #808000\">timezone</span>=<span style=\"color: #008000; text-decoration-color: #008000\">'UTC'</span>, <span style=\"color: #808000; text-decoration-color: #808000\">enable_utc</span>=<span style=\"color: #00ff00; text-decoration-color: #00ff00; font-style: italic\">True</span><span style=\"font-weight: bold\">)</span>,\n",
       "        <span style=\"color: #808000; text-decoration-color: #808000\">task_routes</span>=<span style=\"font-weight: bold\">{</span>\n",
       "            <span style=\"color: #008000; text-decoration-color: #008000\">'app.tasks.email_tasks.*'</span>: <span style=\"color: #800080; text-decoration-color: #800080; font-weight: bold\">QueueConfig</span><span style=\"font-weight: bold\">(</span><span style=\"color: #808000; text-decoration-color: #808000\">queue</span>=<span style=\"color: #008000; text-decoration-color: #008000\">'email'</span><span style=\"font-weight: bold\">)</span>,\n",
       "            <span style=\"color: #008000; text-decoration-color: #008000\">'app.tasks.dataprocessing.*'</span>: <span style=\"color: #800080; text-decoration-color: #800080; font-weight: bold\">QueueConfig</span><span style=\"font-weight: bold\">(</span><span style=\"color: #808000; text-decoration-color: #808000\">queue</span>=<span style=\"color: #008000; text-decoration-color: #008000\">'data'</span><span style=\"font-weight: bold\">)</span>,\n",
       "            <span style=\"color: #008000; text-decoration-color: #008000\">'app.tasks.periodic_tasks.*'</span>: <span style=\"color: #800080; text-decoration-color: #800080; font-weight: bold\">QueueConfig</span><span style=\"font-weight: bold\">(</span><span style=\"color: #808000; text-decoration-color: #808000\">queue</span>=<span style=\"color: #008000; text-decoration-color: #008000\">'periodic'</span><span style=\"font-weight: bold\">)</span>\n",
       "        <span style=\"font-weight: bold\">}</span>,\n",
       "        <span style=\"color: #808000; text-decoration-color: #808000\">worker_config</span>=<span style=\"color: #800080; text-decoration-color: #800080; font-weight: bold\">WorkerConfig</span><span style=\"font-weight: bold\">(</span>\n",
       "            <span style=\"color: #808000; text-decoration-color: #808000\">worker_prefetch_multiplier</span>=<span style=\"color: #008080; text-decoration-color: #008080; font-weight: bold\">1</span>,\n",
       "            <span style=\"color: #808000; text-decoration-color: #808000\">task_acks_late</span>=<span style=\"color: #00ff00; text-decoration-color: #00ff00; font-style: italic\">True</span>,\n",
       "            <span style=\"color: #808000; text-decoration-color: #808000\">worker_max_tasks_per_child</span>=<span style=\"color: #008080; text-decoration-color: #008080; font-weight: bold\">1000</span>\n",
       "        <span style=\"font-weight: bold\">)</span>,\n",
       "        <span style=\"color: #808000; text-decoration-color: #808000\">beat_config</span>=<span style=\"color: #800080; text-decoration-color: #800080; font-weight: bold\">BeatConfig</span><span style=\"font-weight: bold\">(</span>\n",
       "            <span style=\"color: #808000; text-decoration-color: #808000\">beat_schedule</span>=<span style=\"color: #800080; text-decoration-color: #800080; font-weight: bold\">BeatSchedule</span><span style=\"font-weight: bold\">(</span>\n",
       "                <span style=\"color: #808000; text-decoration-color: #808000\">cleanup_old_records</span>=<span style=\"color: #800080; text-decoration-color: #800080; font-weight: bold\">TaskAndSchedule</span><span style=\"font-weight: bold\">(</span>\n",
       "                    <span style=\"color: #808000; text-decoration-color: #808000\">task</span>=<span style=\"color: #008000; text-decoration-color: #008000\">'app.tasks.periodic_tasks.cleanup_old_records'</span>,\n",
       "                    <span style=\"color: #808000; text-decoration-color: #808000\">schedule</span>=<span style=\"color: #008080; text-decoration-color: #008080; font-weight: bold\">3600</span>\n",
       "                <span style=\"font-weight: bold\">)</span>\n",
       "            <span style=\"font-weight: bold\">)</span>,\n",
       "            <span style=\"color: #808000; text-decoration-color: #808000\">health_check</span>=<span style=\"color: #800080; text-decoration-color: #800080; font-weight: bold\">TaskAndSchedule</span><span style=\"font-weight: bold\">(</span><span style=\"color: #808000; text-decoration-color: #808000\">task</span>=<span style=\"color: #008000; text-decoration-color: #008000\">'app.tasks.periodic_tasks.health_check'</span>, <span style=\"color: #808000; text-decoration-color: #808000\">schedule</span>=<span style=\"color: #008080; text-decoration-color: #008080; font-weight: bold\">300</span><span style=\"font-weight: bold\">)</span>\n",
       "        <span style=\"font-weight: bold\">)</span>\n",
       "    <span style=\"font-weight: bold\">)</span>\n",
       "<span style=\"font-weight: bold\">)</span>\n",
       "</pre>\n"
      ],
      "text/plain": [
       "\u001b[1;35mAppConfig\u001b[0m\u001b[1m(\u001b[0m\n",
       "    \u001b[33mdata\u001b[0m=\u001b[1;35mData\u001b[0m\u001b[1m(\u001b[0m\n",
       "        \u001b[33mdata_path\u001b[0m=\u001b[32m'data/train.parquet'\u001b[0m,\n",
       "        \u001b[33mbatch_data\u001b[0m=\u001b[1;35mBatchData\u001b[0m\u001b[1m(\u001b[0m\n",
       "            \u001b[33mis_remote\u001b[0m=\u001b[3;92mTrue\u001b[0m,\n",
       "            \u001b[33mremote_data_id\u001b[0m=\u001b[32m'1lSKBgYQ6bgV4ARRpeRfPMpLgf1GgyWY8'\u001b[0m,\n",
       "            \u001b[33mdownload_path\u001b[0m=\u001b[32m'data/downloaded_data.parquet'\u001b[0m,\n",
       "            \u001b[33mbatch_mode\u001b[0m=\u001b[3;91mFalse\u001b[0m,\n",
       "            \u001b[33mbatch_size\u001b[0m=\u001b[1;36m100\u001b[0m\n",
       "        \u001b[1m)\u001b[0m,\n",
       "        \u001b[33mnum_vars\u001b[0m=\u001b[1m[\u001b[0m\u001b[32m'age'\u001b[0m, \u001b[32m'pclass'\u001b[0m, \u001b[32m'sibsp'\u001b[0m, \u001b[32m'parch'\u001b[0m, \u001b[32m'fare'\u001b[0m, \u001b[32m'survived'\u001b[0m\u001b[1m]\u001b[0m,\n",
       "        \u001b[33mcat_vars\u001b[0m=\u001b[1m[\u001b[0m\u001b[32m'sex'\u001b[0m, \u001b[32m'embarked'\u001b[0m\u001b[1m]\u001b[0m\n",
       "    \u001b[1m)\u001b[0m,\n",
       "    \u001b[33mdb\u001b[0m=\u001b[1;35mDB\u001b[0m\u001b[1m(\u001b[0m\u001b[33mdb_path\u001b[0m=\u001b[32m'sqlite:///results.db'\u001b[0m, \u001b[33mmax_connections\u001b[0m=\u001b[1;36m5\u001b[0m\u001b[1m)\u001b[0m,\n",
       "    \u001b[33mmodel\u001b[0m=\u001b[1;35mModel\u001b[0m\u001b[1m(\u001b[0m\n",
       "        \u001b[33mhyperparams\u001b[0m=\u001b[1;35mModelHyperparams\u001b[0m\u001b[1m(\u001b[0m\u001b[33mn_splits\u001b[0m=\u001b[1;36m5\u001b[0m, \u001b[33mn_estimators\u001b[0m=\u001b[1;36m100\u001b[0m, \u001b[33mmax_depth\u001b[0m=\u001b[1;36m10\u001b[0m, \u001b[33mrandom_state\u001b[0m=\u001b[1;36m42\u001b[0m, \u001b[33mtest_size\u001b[0m=\u001b[1;36m0\u001b[0m\u001b[1;36m.2\u001b[0m\u001b[1m)\u001b[0m,\n",
       "        \u001b[33martifacts\u001b[0m=\u001b[1;35mArtifacts\u001b[0m\u001b[1m(\u001b[0m\u001b[33mmodel_path\u001b[0m=\u001b[32m'models/model.pkl'\u001b[0m\u001b[1m)\u001b[0m\n",
       "    \u001b[1m)\u001b[0m,\n",
       "    \u001b[33mcelery_config\u001b[0m=\u001b[1;35mCeleryConfig\u001b[0m\u001b[1m(\u001b[0m\n",
       "        \u001b[33mbroker_url\u001b[0m=\u001b[32m'pyamqp://guest@localhost:5672//'\u001b[0m,\n",
       "        \u001b[33mresult_backend\u001b[0m=\u001b[32m'redis://localhost:6379'\u001b[0m,\n",
       "        \u001b[33mtask_config\u001b[0m=\u001b[1;35mTaskConfig\u001b[0m\u001b[1m(\u001b[0m\u001b[33mtask_serializer\u001b[0m=\u001b[32m'json'\u001b[0m, \u001b[33mresult_serializer\u001b[0m=\u001b[32m'json'\u001b[0m, \u001b[33mtimezone\u001b[0m=\u001b[32m'UTC'\u001b[0m, \u001b[33menable_utc\u001b[0m=\u001b[3;92mTrue\u001b[0m\u001b[1m)\u001b[0m,\n",
       "        \u001b[33mtask_routes\u001b[0m=\u001b[1m{\u001b[0m\n",
       "            \u001b[32m'app.tasks.email_tasks.*'\u001b[0m: \u001b[1;35mQueueConfig\u001b[0m\u001b[1m(\u001b[0m\u001b[33mqueue\u001b[0m=\u001b[32m'email'\u001b[0m\u001b[1m)\u001b[0m,\n",
       "            \u001b[32m'app.tasks.dataprocessing.*'\u001b[0m: \u001b[1;35mQueueConfig\u001b[0m\u001b[1m(\u001b[0m\u001b[33mqueue\u001b[0m=\u001b[32m'data'\u001b[0m\u001b[1m)\u001b[0m,\n",
       "            \u001b[32m'app.tasks.periodic_tasks.*'\u001b[0m: \u001b[1;35mQueueConfig\u001b[0m\u001b[1m(\u001b[0m\u001b[33mqueue\u001b[0m=\u001b[32m'periodic'\u001b[0m\u001b[1m)\u001b[0m\n",
       "        \u001b[1m}\u001b[0m,\n",
       "        \u001b[33mworker_config\u001b[0m=\u001b[1;35mWorkerConfig\u001b[0m\u001b[1m(\u001b[0m\n",
       "            \u001b[33mworker_prefetch_multiplier\u001b[0m=\u001b[1;36m1\u001b[0m,\n",
       "            \u001b[33mtask_acks_late\u001b[0m=\u001b[3;92mTrue\u001b[0m,\n",
       "            \u001b[33mworker_max_tasks_per_child\u001b[0m=\u001b[1;36m1000\u001b[0m\n",
       "        \u001b[1m)\u001b[0m,\n",
       "        \u001b[33mbeat_config\u001b[0m=\u001b[1;35mBeatConfig\u001b[0m\u001b[1m(\u001b[0m\n",
       "            \u001b[33mbeat_schedule\u001b[0m=\u001b[1;35mBeatSchedule\u001b[0m\u001b[1m(\u001b[0m\n",
       "                \u001b[33mcleanup_old_records\u001b[0m=\u001b[1;35mTaskAndSchedule\u001b[0m\u001b[1m(\u001b[0m\n",
       "                    \u001b[33mtask\u001b[0m=\u001b[32m'app.tasks.periodic_tasks.cleanup_old_records'\u001b[0m,\n",
       "                    \u001b[33mschedule\u001b[0m=\u001b[1;36m3600\u001b[0m\n",
       "                \u001b[1m)\u001b[0m\n",
       "            \u001b[1m)\u001b[0m,\n",
       "            \u001b[33mhealth_check\u001b[0m=\u001b[1;35mTaskAndSchedule\u001b[0m\u001b[1m(\u001b[0m\u001b[33mtask\u001b[0m=\u001b[32m'app.tasks.periodic_tasks.health_check'\u001b[0m, \u001b[33mschedule\u001b[0m=\u001b[1;36m300\u001b[0m\u001b[1m)\u001b[0m\n",
       "        \u001b[1m)\u001b[0m\n",
       "    \u001b[1m)\u001b[0m\n",
       "\u001b[1m)\u001b[0m\n"
      ]
     },
     "metadata": {},
     "output_type": "display_data"
    }
   ],
   "source": [
    "console.print(app_config)"
   ]
  },
  {
   "cell_type": "code",
   "execution_count": 7,
   "id": "83fea804",
   "metadata": {},
   "outputs": [],
   "source": [
    "from contextlib import contextmanager\n",
    "\n",
    "session = ...\n",
    "\n",
    "\n",
    "@contextmanager\n",
    "def get_db_session() -> Generator[\"Session\", None, None]:\n",
    "    try:\n",
    "        yield session\n",
    "        session.commit()\n",
    "    except Exception:\n",
    "        session.rollback()\n",
    "        raise\n",
    "    finally:\n",
    "        session.close()"
   ]
  },
  {
   "cell_type": "code",
   "execution_count": 11,
   "id": "236e53a3",
   "metadata": {},
   "outputs": [
    {
     "data": {
      "text/plain": [
       "50"
      ]
     },
     "execution_count": 11,
     "metadata": {},
     "output_type": "execute_result"
    }
   ],
   "source": [
    "len(\"hkavhfgihaggaihakjghdfjkgfazvzafjafhjahfijoafhjkah\")"
   ]
  },
  {
   "cell_type": "code",
   "execution_count": null,
   "id": "ab8cf2d3",
   "metadata": {},
   "outputs": [],
   "source": []
  },
  {
   "cell_type": "code",
   "execution_count": null,
   "id": "44441795",
   "metadata": {},
   "outputs": [],
   "source": []
  },
  {
   "cell_type": "code",
   "execution_count": null,
   "id": "ef37c13f",
   "metadata": {},
   "outputs": [],
   "source": []
  },
  {
   "cell_type": "code",
   "execution_count": null,
   "id": "5b8b5f77",
   "metadata": {},
   "outputs": [],
   "source": []
  },
  {
   "cell_type": "code",
   "execution_count": null,
   "id": "efac6ef7",
   "metadata": {},
   "outputs": [],
   "source": []
  },
  {
   "cell_type": "code",
   "execution_count": null,
   "id": "0299b6fd",
   "metadata": {},
   "outputs": [],
   "source": []
  },
  {
   "cell_type": "code",
   "execution_count": null,
   "id": "a769141e",
   "metadata": {},
   "outputs": [],
   "source": []
  }
 ],
 "metadata": {
  "kernelspec": {
   "display_name": "batch-process",
   "language": "python",
   "name": "python3"
  },
  "language_info": {
   "codemirror_mode": {
    "name": "ipython",
    "version": 3
   },
   "file_extension": ".py",
   "mimetype": "text/x-python",
   "name": "python",
   "nbconvert_exporter": "python",
   "pygments_lexer": "ipython3",
   "version": "3.12.7"
  }
 },
 "nbformat": 4,
 "nbformat_minor": 5
}
