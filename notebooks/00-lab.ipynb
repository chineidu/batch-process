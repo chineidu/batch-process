{
 "cells": [
  {
   "cell_type": "code",
   "execution_count": 1,
   "id": "88083606",
   "metadata": {},
   "outputs": [],
   "source": [
    "import json\n",
    "import logging\n",
    "import re\n",
    "import warnings\n",
    "from pathlib import Path\n",
    "from pprint import pprint\n",
    "from typing import Annotated, Any, Generator, Literal, Type, TypeVar\n",
    "\n",
    "# Standard imports\n",
    "import numpy as np\n",
    "import numpy.typing as npt\n",
    "import pandas as pd\n",
    "import polars as pl\n",
    "\n",
    "# Visualization\n",
    "# import matplotlib.pyplot as plt\n",
    "\n",
    "# NumPy settings\n",
    "np.set_printoptions(precision=4)\n",
    "\n",
    "# Pandas settings\n",
    "pd.options.display.max_rows = 1_000\n",
    "pd.options.display.max_columns = 1_000\n",
    "pd.options.display.max_colwidth = 600\n",
    "\n",
    "# Polars settings\n",
    "pl.Config.set_fmt_str_lengths(1_000)\n",
    "pl.Config.set_tbl_cols(n=1_000)\n",
    "pl.Config.set_tbl_rows(n=200)\n",
    "\n",
    "warnings.filterwarnings(\"ignore\")\n",
    "\n",
    "# Black code formatter (Optional)\n",
    "%load_ext lab_black\n",
    "\n",
    "# auto reload imports\n",
    "%load_ext autoreload\n",
    "%autoreload 2"
   ]
  },
  {
   "cell_type": "code",
   "execution_count": null,
   "id": "71b2ad73",
   "metadata": {},
   "outputs": [],
   "source": [
    "from rich.console import Console\n",
    "from rich.theme import Theme\n",
    "\n",
    "custom_theme = Theme({\n",
    "    \"white\": \"#FFFFFF\",  # Bright white\n",
    "    \"info\": \"#00FF00\",  # Bright green\n",
    "    \"warning\": \"#FFD700\",  # Bright gold\n",
    "    \"error\": \"#FF1493\",  # Deep pink\n",
    "    \"success\": \"#00FFFF\",  # Cyan\n",
    "    \"highlight\": \"#FF4500\",  # Orange-red\n",
    "})\n",
    "console = Console(theme=custom_theme)\n",
    "\n",
    "\n",
    "def create_path(path: str | Path) -> None:\n",
    "    \"\"\"\n",
    "    Create parent directories for the given path if they don't exist.\n",
    "\n",
    "    Parameters\n",
    "    ----------\n",
    "    path : str | Path\n",
    "        The file path for which to create parent directories.\n",
    "\n",
    "    \"\"\"\n",
    "    Path(path).parent.mkdir(parents=True, exist_ok=True)\n",
    "\n",
    "\n",
    "def go_up_from_current_directory(*, go_up: int = 1) -> None:\n",
    "    \"\"\"This is used to up a number of directories.\n",
    "\n",
    "    Params:\n",
    "    -------\n",
    "    go_up: int, default=1\n",
    "        This indicates the number of times to go back up from the current directory.\n",
    "\n",
    "    Returns:\n",
    "    --------\n",
    "    None\n",
    "    \"\"\"\n",
    "    import os\n",
    "    import sys\n",
    "\n",
    "    CONST: str = \"../\"\n",
    "    NUM: str = CONST * go_up\n",
    "\n",
    "    # Goto the previous directory\n",
    "    prev_directory = os.path.join(os.path.dirname(__name__), NUM)\n",
    "    # Get the 'absolute path' of the previous directory\n",
    "    abs_path_prev_directory = os.path.abspath(prev_directory)\n",
    "\n",
    "    # Add the path to the System paths\n",
    "    sys.path.insert(0, abs_path_prev_directory)\n",
    "    print(abs_path_prev_directory)"
   ]
  },
  {
   "cell_type": "code",
   "execution_count": 3,
   "id": "142ff501",
   "metadata": {},
   "outputs": [
    {
     "name": "stdout",
     "output_type": "stream",
     "text": [
      "/Users/neidu/Desktop/Projects/Personal/batch-process\n"
     ]
    }
   ],
   "source": [
    "go_up_from_current_directory(go_up=1)"
   ]
  },
  {
   "cell_type": "code",
   "execution_count": null,
   "id": "7c4dbb5c",
   "metadata": {},
   "outputs": [],
   "source": [
    "from uuid import UUID, uuid4\n",
    "\n",
    "from config import app_config\n",
    "from schemas import EmailSchema, TaskSchema\n",
    "from schemas.db_models import (\n",
    "    TaskResult,\n",
    "    add_record_to_db,\n",
    "    bulk_insert_records,\n",
    "    get_db_session,\n",
    "    init_db,\n",
    ")\n",
    "\n",
    "init_db()"
   ]
  },
  {
   "cell_type": "code",
   "execution_count": null,
   "id": "115fc9b4",
   "metadata": {},
   "outputs": [],
   "source": [
    "input_data: dict[str, Any] = {\n",
    "    \"task_name\": \"ner\",\n",
    "    \"status\": \"completed\",\n",
    "    \"result\": {},\n",
    "}\n",
    "\n",
    "# result = add_record_to_db(input_data, schema=TaskSchema, data_model=TaskResult)\n",
    "with get_db_session() as db:\n",
    "    record = TaskResult(**TaskSchema(**input_data).to_data_model_dict())\n",
    "    db.add(record)\n",
    "    db.flush()\n",
    "\n",
    "    out = {\n",
    "        \"id\": record.id,\n",
    "        \"task_id\": record.task_id,\n",
    "        \"task_name\": record.task_name,\n",
    "        \"status\": record.status,\n",
    "        \"result\": record.result,\n",
    "        \"error_message\": record.error_message,\n",
    "        \"created_at\": record.created_at,\n",
    "        \"completed_at\": record.completed_at,\n",
    "    }\n",
    "    console.print(out)"
   ]
  },
  {
   "cell_type": "code",
   "execution_count": null,
   "id": "44441795",
   "metadata": {},
   "outputs": [],
   "source": [
    "input_data: dict[str, Any] = {\n",
    "    \"task_name\": \"ner_2\",\n",
    "    \"status\": \"completed\",\n",
    "    \"result\": {},\n",
    "}\n",
    "\n",
    "out = add_record_to_db(input_data, schema=TaskSchema, data_model=TaskResult)\n",
    "console.print(out)"
   ]
  },
  {
   "cell_type": "code",
   "execution_count": 6,
   "id": "ef37c13f",
   "metadata": {},
   "outputs": [],
   "source": [
    "input_data: list[dict[str, Any]] = [\n",
    "    {\n",
    "        \"task_name\": \"ner_1\",\n",
    "        \"result\": {},\n",
    "    },\n",
    "    {\n",
    "        \"task_name\": \"ner_2\",\n",
    "        \"status\": \"completed\",\n",
    "        \"result\": {},\n",
    "    },\n",
    "    {\n",
    "        \"task_name\": \"ner_3\",\n",
    "        \"status\": \"completed\",\n",
    "        \"result\": {},\n",
    "    },\n",
    "]\n",
    "\n",
    "bulk_insert_records(input_data, schema=TaskSchema, data_model=TaskResult)"
   ]
  },
  {
   "cell_type": "code",
   "execution_count": 7,
   "id": "5b8b5f77",
   "metadata": {},
   "outputs": [],
   "source": [
    "from sqlalchemy import select"
   ]
  },
  {
   "cell_type": "code",
   "execution_count": 16,
   "id": "efac6ef7",
   "metadata": {},
   "outputs": [
    {
     "data": {
      "text/html": [
       "<pre style=\"white-space:pre;overflow-x:auto;line-height:normal;font-family:Menlo,'DejaVu Sans Mono',consolas,'Courier New',monospace\">274df4c1e8fc4c29a1dbdd48370b0442\n",
       "</pre>\n"
      ],
      "text/plain": [
       "274df4c1e8fc4c29a1dbdd48370b0442\n"
      ]
     },
     "metadata": {},
     "output_type": "display_data"
    }
   ],
   "source": [
    "with get_db_session() as db:\n",
    "    statement = select(TaskResult).filter_by(task_name=\"ner_2\")\n",
    "    result = db.execute(statement).scalar_one()\n",
    "    console.print(result.task_id)"
   ]
  },
  {
   "cell_type": "code",
   "execution_count": null,
   "id": "0299b6fd",
   "metadata": {},
   "outputs": [],
   "source": []
  },
  {
   "cell_type": "code",
   "execution_count": null,
   "id": "a769141e",
   "metadata": {},
   "outputs": [],
   "source": []
  }
 ],
 "metadata": {
  "kernelspec": {
   "display_name": "batch-process",
   "language": "python",
   "name": "python3"
  },
  "language_info": {
   "codemirror_mode": {
    "name": "ipython",
    "version": 3
   },
   "file_extension": ".py",
   "mimetype": "text/x-python",
   "name": "python",
   "nbconvert_exporter": "python",
   "pygments_lexer": "ipython3",
   "version": "3.12.7"
  }
 },
 "nbformat": 4,
 "nbformat_minor": 5
}
